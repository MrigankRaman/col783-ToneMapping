{
 "cells": [
  {
   "cell_type": "code",
   "execution_count": 6,
   "metadata": {},
   "outputs": [],
   "source": [
    "import cv2\n",
    "import numpy as np\n",
    "from matplotlib import pyplot as plt"
   ]
  },
  {
   "cell_type": "code",
   "execution_count": 9,
   "metadata": {},
   "outputs": [
    {
     "ename": "KeyboardInterrupt",
     "evalue": "",
     "output_type": "error",
     "traceback": [
      "\u001b[1;31m---------------------------------------------------------------------------\u001b[0m",
      "\u001b[1;31mKeyboardInterrupt\u001b[0m                         Traceback (most recent call last)",
      "\u001b[1;32m<ipython-input-9-edcb1967317e>\u001b[0m in \u001b[0;36m<module>\u001b[1;34m\u001b[0m\n\u001b[0;32m      2\u001b[0m \u001b[0mimg2\u001b[0m \u001b[1;33m=\u001b[0m \u001b[0mimg\u001b[0m\u001b[1;33m**\u001b[0m\u001b[1;33m(\u001b[0m\u001b[1;36m1\u001b[0m\u001b[1;33m/\u001b[0m\u001b[1;36m2.2\u001b[0m\u001b[1;33m)\u001b[0m\u001b[1;33m\u001b[0m\u001b[1;33m\u001b[0m\u001b[0m\n\u001b[0;32m      3\u001b[0m \u001b[0mcv2\u001b[0m\u001b[1;33m.\u001b[0m\u001b[0mimshow\u001b[0m\u001b[1;33m(\u001b[0m\u001b[1;34m'image'\u001b[0m\u001b[1;33m,\u001b[0m\u001b[0mimg2\u001b[0m\u001b[1;33m)\u001b[0m\u001b[1;33m\u001b[0m\u001b[1;33m\u001b[0m\u001b[0m\n\u001b[1;32m----> 4\u001b[1;33m \u001b[0mcv2\u001b[0m\u001b[1;33m.\u001b[0m\u001b[0mwaitKey\u001b[0m\u001b[1;33m(\u001b[0m\u001b[1;36m0\u001b[0m\u001b[1;33m)\u001b[0m\u001b[1;33m\u001b[0m\u001b[1;33m\u001b[0m\u001b[0m\n\u001b[0m",
      "\u001b[1;31mKeyboardInterrupt\u001b[0m: "
     ]
    }
   ],
   "source": [
    "img = cv2.imread('memorial.hdr',cv2.IMREAD_ANYDEPTH)\n",
    "img2 = img**(1/2.2) \n",
    "cv2.imshow('image',img2)\n",
    "cv2.waitKey(0)"
   ]
  },
  {
   "cell_type": "code",
   "execution_count": 12,
   "metadata": {},
   "outputs": [
    {
     "name": "stdout",
     "output_type": "stream",
     "text": [
      "[[[0.00086975 0.00072098 0.00045776]\n",
      "  [0.00036621 0.0015564  0.00665283]\n",
      "  [0.00085449 0.00299072 0.01019287]\n",
      "  ...\n",
      "  [0.00415039 0.01611328 0.03198242]\n",
      "  [0.00488281 0.01928711 0.04272461]\n",
      "  [0.00402832 0.01708984 0.0279541 ]]\n",
      "\n",
      " [[0.00039673 0.00054932 0.00653076]\n",
      "  [0.00067139 0.00201416 0.00921631]\n",
      "  [0.00152588 0.00524902 0.01330566]\n",
      "  ...\n",
      "  [0.00402832 0.01367188 0.02648926]\n",
      "  [0.00488281 0.01806641 0.03295898]\n",
      "  [0.00378418 0.01635742 0.0267334 ]]\n",
      "\n",
      " [[0.00085449 0.00140381 0.01031494]\n",
      "  [0.00152588 0.0055542  0.01324463]\n",
      "  [0.00140381 0.00415039 0.00836182]\n",
      "  ...\n",
      "  [0.00439453 0.01342773 0.03686523]\n",
      "  [0.00390625 0.01489258 0.03088379]\n",
      "  [0.00427246 0.02026367 0.02648926]]\n",
      "\n",
      " ...\n",
      "\n",
      " [[0.00079346 0.00219727 0.00915527]\n",
      "  [0.00054932 0.00305176 0.0112915 ]\n",
      "  [0.00073242 0.00305176 0.0112915 ]\n",
      "  ...\n",
      "  [0.01123047 0.03613281 0.07226562]\n",
      "  [0.00976562 0.03320312 0.06591797]\n",
      "  [0.00952148 0.02905273 0.04736328]]\n",
      "\n",
      " [[0.00091553 0.00231934 0.00952148]\n",
      "  [0.00067139 0.00311279 0.0111084 ]\n",
      "  [0.00079346 0.00323486 0.01153564]\n",
      "  ...\n",
      "  [0.01049805 0.02490234 0.04663086]\n",
      "  [0.00976562 0.0246582  0.04638672]\n",
      "  [0.00878906 0.01782227 0.03540039]]\n",
      "\n",
      " [[0.00067139 0.00238037 0.00976562]\n",
      "  [0.00067139 0.00317383 0.01104736]\n",
      "  [0.00079346 0.00323486 0.01141357]\n",
      "  ...\n",
      "  [0.00708008 0.02124023 0.03686523]\n",
      "  [0.00683594 0.02172852 0.03613281]\n",
      "  [0.00427246 0.01513672 0.02770996]]]\n"
     ]
    }
   ],
   "source": [
    "print(img)"
   ]
  },
  {
   "cell_type": "code",
   "execution_count": 4,
   "metadata": {},
   "outputs": [
    {
     "data": {
      "text/plain": [
       "549494.1"
      ]
     },
     "execution_count": 4,
     "metadata": {},
     "output_type": "execute_result"
    }
   ],
   "source": [
    "np.max(img[:,:,1])/np.min(img[:,:,1])"
   ]
  },
  {
   "cell_type": "markdown",
   "metadata": {},
   "source": []
  },
  {
   "cell_type": "code",
   "execution_count": 11,
   "metadata": {},
   "outputs": [
    {
     "name": "stdout",
     "output_type": "stream",
     "text": [
      "[[[ 0.98921115  0.55702307]\n",
      "  [-1.20092698  0.2241661 ]\n",
      "  [ 0.55717632 -1.17933857]]\n",
      "\n",
      " [[ 0.3589918  -0.889463  ]\n",
      "  [-0.16855456 -0.22568639]\n",
      "  [ 0.70245354  1.60331897]]\n",
      "\n",
      " [[ 0.02935481 -0.03736135]\n",
      "  [ 1.00773511  0.29606557]\n",
      "  [-1.24321342  0.30980244]]\n",
      "\n",
      " [[ 0.3534481   0.61535266]\n",
      "  [-0.9215065  -0.89270573]\n",
      "  [-0.03959407  0.80008425]]]\n"
     ]
    },
    {
     "data": {
      "text/plain": [
       "array([[ 1.54623423, -0.97676088, -0.62216224],\n",
       "       [-0.5304712 , -0.39424095,  2.30577251],\n",
       "       [-0.00800654,  1.30380068, -0.93341098],\n",
       "       [ 0.96880076, -1.81421223,  0.76049018]])"
      ]
     },
     "execution_count": 11,
     "metadata": {},
     "output_type": "execute_result"
    }
   ],
   "source": [
    "X = np.random.randn(4,3,2)\n",
    "print(X)\n",
    "np.sum(X,axis=2)"
   ]
  },
  {
   "cell_type": "code",
   "execution_count": 20,
   "metadata": {},
   "outputs": [
    {
     "data": {
      "text/plain": [
       "224.6519"
      ]
     },
     "execution_count": 20,
     "metadata": {},
     "output_type": "execute_result"
    }
   ],
   "source": [
    "img1 = 0.299*img[:,:,2] + 0.587*img[:,:,1] + 0.114*img[:,:,0]\n",
    "img1 = img1 + 1\n",
    "np.max(img1)/np.min(img1)"
   ]
  },
  {
   "cell_type": "code",
   "execution_count": 21,
   "metadata": {},
   "outputs": [],
   "source": [
    "img1 = np.log10(img1)"
   ]
  },
  {
   "cell_type": "code",
   "execution_count": 22,
   "metadata": {},
   "outputs": [
    {
     "data": {
      "text/plain": [
       "48"
      ]
     },
     "execution_count": 22,
     "metadata": {},
     "output_type": "execute_result"
    }
   ],
   "source": [
    "cv2.imshow('image',img1)\n",
    "cv2.waitKey(0)"
   ]
  },
  {
   "cell_type": "code",
   "execution_count": 30,
   "metadata": {},
   "outputs": [
    {
     "data": {
      "text/plain": [
       "2.3515103"
      ]
     },
     "execution_count": 30,
     "metadata": {},
     "output_type": "execute_result"
    }
   ],
   "source": [
    "np.max(img1) - np.min(img1)"
   ]
  },
  {
   "cell_type": "code",
   "execution_count": 2,
   "metadata": {},
   "outputs": [
    {
     "ename": "NameError",
     "evalue": "name 'img1' is not defined",
     "output_type": "error",
     "traceback": [
      "\u001b[1;31m---------------------------------------------------------------------------\u001b[0m",
      "\u001b[1;31mNameError\u001b[0m                                 Traceback (most recent call last)",
      "\u001b[1;32m<ipython-input-2-9da8a0e2822a>\u001b[0m in \u001b[0;36m<module>\u001b[1;34m\u001b[0m\n\u001b[1;32m----> 1\u001b[1;33m \u001b[0mimin\u001b[0m \u001b[1;33m=\u001b[0m \u001b[0mnp\u001b[0m\u001b[1;33m.\u001b[0m\u001b[0mmin\u001b[0m\u001b[1;33m(\u001b[0m\u001b[0mimg1\u001b[0m\u001b[1;33m)\u001b[0m\u001b[1;33m\u001b[0m\u001b[1;33m\u001b[0m\u001b[0m\n\u001b[0m\u001b[0;32m      2\u001b[0m \u001b[0minmax\u001b[0m \u001b[1;33m=\u001b[0m \u001b[0mnp\u001b[0m\u001b[1;33m.\u001b[0m\u001b[0mmax\u001b[0m\u001b[1;33m(\u001b[0m\u001b[0mimg1\u001b[0m\u001b[1;33m)\u001b[0m\u001b[1;33m\u001b[0m\u001b[1;33m\u001b[0m\u001b[0m\n\u001b[0;32m      3\u001b[0m \u001b[0moutmin\u001b[0m \u001b[1;33m=\u001b[0m \u001b[1;36m0.1\u001b[0m\u001b[1;33m\u001b[0m\u001b[1;33m\u001b[0m\u001b[0m\n\u001b[0;32m      4\u001b[0m \u001b[0moutmax\u001b[0m \u001b[1;33m=\u001b[0m \u001b[1;36m2.1\u001b[0m\u001b[1;33m\u001b[0m\u001b[1;33m\u001b[0m\u001b[0m\n",
      "\u001b[1;31mNameError\u001b[0m: name 'img1' is not defined"
     ]
    }
   ],
   "source": [
    "imin = np.min(img1)\n",
    "inmax = np.max(img1)\n",
    "outmin = 0.1\n",
    "outmax = 2.1"
   ]
  },
  {
   "cell_type": "code",
   "execution_count": 31,
   "metadata": {},
   "outputs": [
    {
     "data": {
      "text/plain": [
       "224.65200552370413"
      ]
     },
     "execution_count": 31,
     "metadata": {},
     "output_type": "execute_result"
    }
   ],
   "source": [
    "10**2.3515103"
   ]
  },
  {
   "cell_type": "code",
   "execution_count": 14,
   "metadata": {},
   "outputs": [
    {
     "name": "stdout",
     "output_type": "stream",
     "text": [
      "2.0\n"
     ]
    },
    {
     "ename": "IndexError",
     "evalue": "too many indices for array",
     "output_type": "error",
     "traceback": [
      "\u001b[1;31m---------------------------------------------------------------------------\u001b[0m",
      "\u001b[1;31mIndexError\u001b[0m                                Traceback (most recent call last)",
      "\u001b[1;32m<ipython-input-14-35ce1533c21d>\u001b[0m in \u001b[0;36m<module>\u001b[1;34m\u001b[0m\n\u001b[0;32m     17\u001b[0m         \u001b[0mimg5\u001b[0m\u001b[1;33m[\u001b[0m\u001b[0mi\u001b[0m\u001b[1;33m,\u001b[0m\u001b[0mj\u001b[0m\u001b[1;33m]\u001b[0m \u001b[1;33m=\u001b[0m \u001b[0moutmin\u001b[0m \u001b[1;33m+\u001b[0m \u001b[1;33m(\u001b[0m\u001b[0mimg4\u001b[0m\u001b[1;33m[\u001b[0m\u001b[0mi\u001b[0m\u001b[1;33m,\u001b[0m\u001b[0mj\u001b[0m\u001b[1;33m]\u001b[0m \u001b[1;33m-\u001b[0m \u001b[0minmin\u001b[0m\u001b[1;33m)\u001b[0m\u001b[1;33m*\u001b[0m\u001b[1;33m(\u001b[0m\u001b[1;33m(\u001b[0m\u001b[0moutmax\u001b[0m\u001b[1;33m-\u001b[0m\u001b[0moutmin\u001b[0m\u001b[1;33m)\u001b[0m\u001b[1;33m/\u001b[0m\u001b[1;33m(\u001b[0m\u001b[0minmax\u001b[0m \u001b[1;33m-\u001b[0m \u001b[0minmin\u001b[0m\u001b[1;33m)\u001b[0m\u001b[1;33m)\u001b[0m\u001b[1;33m\u001b[0m\u001b[1;33m\u001b[0m\u001b[0m\n\u001b[0;32m     18\u001b[0m \u001b[0mprint\u001b[0m\u001b[1;33m(\u001b[0m\u001b[0mnp\u001b[0m\u001b[1;33m.\u001b[0m\u001b[0mmax\u001b[0m\u001b[1;33m(\u001b[0m\u001b[0mimg5\u001b[0m\u001b[1;33m)\u001b[0m\u001b[1;33m)\u001b[0m\u001b[1;33m\u001b[0m\u001b[1;33m\u001b[0m\u001b[0m\n\u001b[1;32m---> 19\u001b[1;33m \u001b[0mimg7\u001b[0m \u001b[1;33m=\u001b[0m \u001b[0munsharp\u001b[0m\u001b[1;33m(\u001b[0m\u001b[0mimg5\u001b[0m\u001b[1;33m)\u001b[0m\u001b[1;33m\u001b[0m\u001b[1;33m\u001b[0m\u001b[0m\n\u001b[0m\u001b[0;32m     20\u001b[0m \u001b[0mimg5\u001b[0m \u001b[1;33m=\u001b[0m \u001b[1;36m10\u001b[0m\u001b[1;33m**\u001b[0m\u001b[1;33m(\u001b[0m\u001b[0mimg5\u001b[0m\u001b[1;33m)\u001b[0m\u001b[1;33m\u001b[0m\u001b[1;33m\u001b[0m\u001b[0m\n\u001b[0;32m     21\u001b[0m \u001b[0mimg6\u001b[0m\u001b[1;33m[\u001b[0m\u001b[1;33m:\u001b[0m\u001b[1;33m,\u001b[0m\u001b[1;33m:\u001b[0m\u001b[1;33m,\u001b[0m\u001b[1;36m0\u001b[0m\u001b[1;33m]\u001b[0m \u001b[1;33m=\u001b[0m \u001b[1;33m(\u001b[0m\u001b[1;33m(\u001b[0m\u001b[0mimg3\u001b[0m\u001b[1;33m[\u001b[0m\u001b[1;33m:\u001b[0m\u001b[1;33m,\u001b[0m\u001b[1;33m:\u001b[0m\u001b[1;33m,\u001b[0m\u001b[1;36m0\u001b[0m\u001b[1;33m]\u001b[0m\u001b[1;33m/\u001b[0m\u001b[1;33m(\u001b[0m\u001b[0mimg1\u001b[0m\u001b[1;33m+\u001b[0m\u001b[1;36m1\u001b[0m\u001b[1;33m)\u001b[0m\u001b[1;33m)\u001b[0m\u001b[1;33m**\u001b[0m\u001b[1;36m0.5\u001b[0m\u001b[1;33m)\u001b[0m\u001b[1;33m*\u001b[0m\u001b[0mimg5\u001b[0m\u001b[1;33m\u001b[0m\u001b[1;33m\u001b[0m\u001b[0m\n",
      "\u001b[1;32m<ipython-input-13-33c753663c7c>\u001b[0m in \u001b[0;36munsharp\u001b[1;34m(img1)\u001b[0m\n\u001b[0;32m      4\u001b[0m     \u001b[1;32mfor\u001b[0m \u001b[0mi\u001b[0m \u001b[1;32min\u001b[0m \u001b[0mrange\u001b[0m\u001b[1;33m(\u001b[0m\u001b[1;36m1\u001b[0m\u001b[1;33m,\u001b[0m\u001b[0mimg\u001b[0m\u001b[1;33m.\u001b[0m\u001b[0mshape\u001b[0m\u001b[1;33m[\u001b[0m\u001b[1;36m0\u001b[0m\u001b[1;33m]\u001b[0m\u001b[1;33m-\u001b[0m\u001b[1;36m1\u001b[0m\u001b[1;33m)\u001b[0m\u001b[1;33m:\u001b[0m\u001b[1;33m\u001b[0m\u001b[1;33m\u001b[0m\u001b[0m\n\u001b[0;32m      5\u001b[0m         \u001b[1;32mfor\u001b[0m \u001b[0mj\u001b[0m \u001b[1;32min\u001b[0m \u001b[0mrange\u001b[0m\u001b[1;33m(\u001b[0m\u001b[1;36m2\u001b[0m\u001b[1;33m,\u001b[0m\u001b[0mimg\u001b[0m\u001b[1;33m.\u001b[0m\u001b[0mshape\u001b[0m\u001b[1;33m[\u001b[0m\u001b[1;36m1\u001b[0m\u001b[1;33m]\u001b[0m\u001b[1;33m-\u001b[0m\u001b[1;36m2\u001b[0m\u001b[1;33m)\u001b[0m\u001b[1;33m:\u001b[0m\u001b[1;33m\u001b[0m\u001b[1;33m\u001b[0m\u001b[0m\n\u001b[1;32m----> 6\u001b[1;33m             \u001b[0mX1B\u001b[0m \u001b[1;33m=\u001b[0m \u001b[0mimg1\u001b[0m\u001b[1;33m[\u001b[0m\u001b[0mi\u001b[0m\u001b[1;33m-\u001b[0m\u001b[1;36m1\u001b[0m\u001b[1;33m:\u001b[0m\u001b[0mi\u001b[0m\u001b[1;33m+\u001b[0m\u001b[1;36m2\u001b[0m\u001b[1;33m,\u001b[0m\u001b[0mj\u001b[0m\u001b[1;33m-\u001b[0m\u001b[1;36m1\u001b[0m\u001b[1;33m:\u001b[0m\u001b[0mj\u001b[0m\u001b[1;33m+\u001b[0m\u001b[1;36m2\u001b[0m\u001b[1;33m,\u001b[0m\u001b[1;36m0\u001b[0m\u001b[1;33m]\u001b[0m\u001b[1;33m\u001b[0m\u001b[1;33m\u001b[0m\u001b[0m\n\u001b[0m\u001b[0;32m      7\u001b[0m             \u001b[0mX1G\u001b[0m \u001b[1;33m=\u001b[0m \u001b[0mimg1\u001b[0m\u001b[1;33m[\u001b[0m\u001b[0mi\u001b[0m\u001b[1;33m-\u001b[0m\u001b[1;36m1\u001b[0m\u001b[1;33m:\u001b[0m\u001b[0mi\u001b[0m\u001b[1;33m+\u001b[0m\u001b[1;36m2\u001b[0m\u001b[1;33m,\u001b[0m\u001b[0mj\u001b[0m\u001b[1;33m-\u001b[0m\u001b[1;36m1\u001b[0m\u001b[1;33m:\u001b[0m\u001b[0mj\u001b[0m\u001b[1;33m+\u001b[0m\u001b[1;36m2\u001b[0m\u001b[1;33m,\u001b[0m\u001b[1;36m1\u001b[0m\u001b[1;33m]\u001b[0m\u001b[1;33m\u001b[0m\u001b[1;33m\u001b[0m\u001b[0m\n\u001b[0;32m      8\u001b[0m             \u001b[0mX1R\u001b[0m \u001b[1;33m=\u001b[0m \u001b[0mimg1\u001b[0m\u001b[1;33m[\u001b[0m\u001b[0mi\u001b[0m\u001b[1;33m-\u001b[0m\u001b[1;36m1\u001b[0m\u001b[1;33m:\u001b[0m\u001b[0mi\u001b[0m\u001b[1;33m+\u001b[0m\u001b[1;36m2\u001b[0m\u001b[1;33m,\u001b[0m\u001b[0mj\u001b[0m\u001b[1;33m-\u001b[0m\u001b[1;36m1\u001b[0m\u001b[1;33m:\u001b[0m\u001b[0mj\u001b[0m\u001b[1;33m+\u001b[0m\u001b[1;36m2\u001b[0m\u001b[1;33m,\u001b[0m\u001b[1;36m2\u001b[0m\u001b[1;33m]\u001b[0m\u001b[1;33m\u001b[0m\u001b[1;33m\u001b[0m\u001b[0m\n",
      "\u001b[1;31mIndexError\u001b[0m: too many indices for array"
     ]
    }
   ],
   "source": [
    "img = imageio.imread('memorial.hdr',format='HDR-FI')\n",
    "img8 = img*(255/np.max(img))\n",
    "img9 = (img8**(1/2.2))\n",
    "img1 = 0.299*img[:,:,0] + 0.587*img[:,:,1] + 0.114*img[:,:,2]\n",
    "img5 = img1 + 1\n",
    "img5 = np.log10(img5)\n",
    "img3 = img.copy()\n",
    "img6 = img.copy()\n",
    "img8 = img.copy()\n",
    "img4 = img5.copy()\n",
    "inmin = np.min(img5)\n",
    "inmax = np.max(img5)\n",
    "outmin = 2\n",
    "outmax = 0\n",
    "for i in range(img5.shape[0]):\n",
    "    for j in range(img5.shape[1]):\n",
    "        img5[i,j] = outmin + (img4[i,j] - inmin)*((outmax-outmin)/(inmax - inmin))\n",
    "print(np.max(img5))\n",
    "img7 = unsharp(img5)\n",
    "img5 = 10**(img5)\n",
    "img6[:,:,0] = ((img3[:,:,0]/(img1+1))**0.5)*img5\n",
    "img6[:,:,1] = ((img3[:,:,1]/(img1+1))**0.5)*img5\n",
    "img6[:,:,2] = ((img3[:,:,2]/(img1+1))**0.5)*img5\n",
    "img6 = img6**(1/2.2)\n",
    "img6 = img6*(255/np.max(img6))\n",
    "\n",
    "# img8[:,:,0] = ((img3[:,:,0]/(img1+1))**0.5)*img7\n",
    "# img8[:,:,1] = ((img3[:,:,1]/(img1+1))**0.5)*img7\n",
    "# img8[:,:,2] = ((img3[:,:,2]/(img1+1))**0.5)*img7\n",
    "#img6 = img6**(1/2.2)\n",
    "# img1 = img1.astype(np.uint8)\n",
    "# img6 = img6.astype(np.uint8)\n",
    "# img7 = unsharp(img6)\n",
    "# print(np.max(img7))\n",
    "# img7 = img7[:,:,::-1]\n",
    "img6 = img6[:,:,::-1]\n",
    "# img = img[:,:,::-1]\n",
    "# img8 = img8[:,:,::-1]\n",
    "# cv2.imshow('image',1.055*(img6)**(1/2.2))\n",
    "# cv2.imshow('image3',1.055*(img8)**(1/2.2))\n",
    "# cv2.imshow('image2',1.055*(img7)**(1/2.2))\n",
    "# cv2.imshow('image1',1.055*img**(1/2.2))\n",
    "# img9 = img9*(255/np.max(img9))\n",
    "# img9 = img9[:,:,::-1]\n",
    "cv2.imwrite('out4.jpg',img6.astype(np.uint8))\n",
    "cv2.waitKey(0)"
   ]
  },
  {
   "cell_type": "code",
   "execution_count": 6,
   "metadata": {},
   "outputs": [
    {
     "name": "stdout",
     "output_type": "stream",
     "text": [
      "[[[2.15850614e-05 4.27295090e-05 8.91839882e-05]\n",
      "  [3.13702883e-04 9.22414765e-05 3.75511554e-05]\n",
      "  [4.80627321e-04 1.77248323e-04 8.76193590e-05]\n",
      "  ...\n",
      "  [1.50807621e-03 9.54970601e-04 4.25579754e-04]\n",
      "  [2.01460556e-03 1.14307087e-03 5.00682043e-04]\n",
      "  [1.31812773e-03 1.01284764e-03 4.13062720e-04]]\n",
      "\n",
      " [[3.07946873e-04 3.25558176e-05 4.06804174e-05]\n",
      "  [4.34579211e-04 1.19371325e-04 6.88437794e-05]\n",
      "  [6.27405767e-04 3.11088923e-04 1.56463138e-04]\n",
      "  ...\n",
      "  [1.24905549e-03 8.10278114e-04 4.13062720e-04]\n",
      "  [1.55412441e-03 1.07072468e-03 5.00682043e-04]\n",
      "  [1.26056757e-03 9.69439920e-04 3.88028595e-04]]\n",
      "\n",
      " [[4.86383360e-04 8.31981961e-05 8.76193590e-05]\n",
      "  [6.24527747e-04 3.29175498e-04 1.56463138e-04]\n",
      "  [3.94287112e-04 2.45977280e-04 1.43946090e-04]\n",
      "  ...\n",
      "  [1.73831685e-03 7.95808854e-04 4.50613850e-04]\n",
      "  [1.45627209e-03 8.82624357e-04 4.00545658e-04]\n",
      "  [1.24905549e-03 1.20094791e-03 4.38096817e-04]]\n",
      "\n",
      " ...\n",
      "\n",
      " [[4.31701192e-04 1.30223270e-04 8.13608349e-05]\n",
      "  [5.32431470e-04 1.80865638e-04 5.63267313e-05]\n",
      "  [5.32431470e-04 1.80865638e-04 7.51023108e-05]\n",
      "  ...\n",
      "  [3.40756169e-03 2.14144937e-03 1.15156872e-03]\n",
      "  [3.10824881e-03 1.96781824e-03 1.00136409e-03]\n",
      "  [2.23333435e-03 1.72184093e-03 9.76330019e-04]]\n",
      "\n",
      " [[4.48969280e-04 1.37457886e-04 9.38778830e-05]\n",
      "  [5.23797469e-04 1.84482953e-04 6.88437794e-05]\n",
      "  [5.43943548e-04 1.91717583e-04 8.13608349e-05]\n",
      "  ...\n",
      "  [2.19879835e-03 1.47586362e-03 1.07646640e-03]\n",
      "  [2.18728627e-03 1.46139448e-03 1.00136409e-03]\n",
      "  [1.66924472e-03 1.05625531e-03 9.01227701e-04]]\n",
      "\n",
      " [[4.60481271e-04 1.41075201e-04 6.88437794e-05]\n",
      "  [5.20919450e-04 1.88100268e-04 6.88437794e-05]\n",
      "  [5.38187509e-04 1.91717583e-04 8.13608349e-05]\n",
      "  ...\n",
      "  [1.73831685e-03 1.25882495e-03 7.25988939e-04]\n",
      "  [1.70378084e-03 1.28776347e-03 7.00954872e-04]\n",
      "  [1.30661565e-03 8.97093618e-04 4.38096817e-04]]]\n"
     ]
    },
    {
     "data": {
      "text/plain": [
       "-1"
      ]
     },
     "execution_count": 6,
     "metadata": {},
     "output_type": "execute_result"
    }
   ],
   "source": [
    "import imageio\n",
    "im = imageio.imread('memorial.hdr',format='HDR-FI')\n",
    "im.shape\n",
    "max = np.max(np.max(im,axis=1),axis=0).reshape(1,1,3)\n",
    "im = (im/max)\n",
    "img = im\n",
    "for i in range(im.shape[0]):\n",
    "    for j in range(im.shape[1]):\n",
    "        for k in range(im.shape[2]):\n",
    "            if im[i,j,k]<0.0031308:\n",
    "                im[i,j,k]*=12.92\n",
    "            else:\n",
    "                im[i,j,k]= 1.055*(im[i,j,k]**(1/2.2)) - 0.055\n",
    "print(im)\n",
    "cv2.imshow('img',im)\n",
    "cv2.imshow('img1',img)\n",
    "cv2.waitKey(0)"
   ]
  },
  {
   "cell_type": "code",
   "execution_count": 3,
   "metadata": {},
   "outputs": [
    {
     "name": "stdout",
     "output_type": "stream",
     "text": [
      "Imageio: 'freeimage-3.15.1-win64.dll' was not found on your computer; downloading it now.\n",
      "Try 1. Download from https://github.com/imageio/imageio-binaries/raw/master/freeimage/FreeImage-3.15.1-win64.dll (3.4 MB)\n",
      "Downloading: 8192/3527168 bytes (0.2%24576/3527168 bytes (0.732768/3527168 bytes (0.949152/3527168 bytes (1.465536/3527168 bytes (1.981920/3527168 bytes (2.3114688/3527168 bytes (3.3%131072/3527168 bytes (3.7%163840/3527168 bytes (4.6%180224/3527168 bytes (5.1%212992/3527168 bytes (6.0%245760/3527168 bytes (7.0%262144/3527168 bytes (7.4%294912/3527168 bytes (8.4%311296/3527168 bytes (8.8%327680/3527168 bytes (9.3%360448/3527168 bytes (10.2393216/3527168 bytes (11.1409600/3527168 bytes (11.6425984/3527168 bytes (12.1442368/3527168 bytes (12.5458752/3527168 bytes (13.0475136/3527168 bytes (13.5491520/3527168 bytes (13.9507904/3527168 bytes (14.4540672/3527168 bytes (15.3557056/3527168 bytes (15.8573440/3527168 bytes (16.3589824/3527168 bytes (16.7606208/3527168 bytes (17.2622592/3527168 bytes (17.7638976/3527168 bytes (18.1671744/3527168 bytes (19.0679936/3527168 bytes (19.3688128/3527168 bytes (19.5704512/3527168 bytes (20.0720896/3527168 bytes (20.4737280/3527168 bytes (20.9753664/3527168 bytes (21.4770048/3527168 bytes (21.8794624/3527168 bytes (22.5802816/3527168 bytes (22.8811008/3527168 bytes (23.0835584/3527168 bytes (23.7851968/3527168 bytes (24.2868352/3527168 bytes (24.6884736/3527168 bytes (25.1901120/3527168 bytes (25.5925696/3527168 bytes (26.2933888/3527168 bytes (26.5942080/3527168 bytes (26.7950272/3527168 bytes (26.9966656/3527168 bytes (27.4983040/3527168 bytes (27.9999424/3527168 bytes (28.31015808/3527168 bytes (28.8%1040384/3527168 bytes (29.5%1048576/3527168 bytes (29.7%1064960/3527168 bytes (30.2%1081344/3527168 bytes (30.7%1114112/3527168 bytes (31.6%1130496/3527168 bytes (32.1%1163264/3527168 bytes (33.0%1171456/3527168 bytes (33.2%1179648/3527168 bytes (33.4%1187840/3527168 bytes (33.7%1196032/3527168 bytes (33.9%1212416/3527168 bytes (34.4%1228800/3527168 bytes (34.8%1245184/3527168 bytes (35.3%1261568/3527168 bytes (35.8%1294336/3527168 bytes (36.7%1310720/3527168 bytes (37.2%1318912/3527168 bytes (37.4%1327104/3527168 bytes (37.6%1343488/3527168 bytes (38.1%1359872/3527168 bytes (38.6%1376256/3527168 bytes (39.0%1392640/3527168 bytes (39.5%1409024/3527168 bytes (39.9%1425408/3527168 bytes (40.4%1441792/3527168 bytes (40.9%1449984/3527168 bytes (41.1%1458176/3527168 bytes (41.3%1474560/3527168 bytes (41.8%1490944/3527168 bytes (42.3%1507328/3527168 bytes (42.7%1523712/3527168 bytes (43.2%1540096/3527168 bytes (43.7%1564672/3527168 bytes (44.4%1572864/3527168 bytes (44.6%1581056/3527168 bytes (44.8%1589248/3527168 bytes (45.1%1605632/3527168 bytes (45.5%1622016/3527168 bytes (46.0%1638400/3527168 bytes (46.5%1654784/3527168 bytes (46.9%1671168/3527168 bytes (47.4%1695744/3527168 bytes (48.1%1703936/3527168 bytes (48.3%1712128/3527168 bytes (48.5%1720320/3527168 bytes (48.8%1736704/3527168 bytes (49.2%1753088/3527168 bytes (49.7%1769472/3527168 bytes (50.2%1785856/3527168 bytes (50.6%1802240/3527168 bytes (51.1%1826816/3527168 bytes (51.8%1835008/3527168 bytes (52.0%1843200/3527168 bytes (52.3%1851392/3527168 bytes (52.5%1867776/3527168 bytes (53.0%1884160/3527168 bytes (53.4%1900544/3527168 bytes (53.9%1916928/3527168 bytes (54.3%1933312/3527168 bytes (54.8%1966080/3527168 bytes (55.7%1982464/3527168 bytes (56.2%1998848/3527168 bytes (56.7%2015232/3527168 bytes (57.1%2031616/3527168 bytes (57.6%2048000/3527168 bytes (58.1%2097152/3527168 bytes (59.5%2113536/3527168 bytes (59.9%2129920/3527168 bytes (60.4%2146304/3527168 bytes (60.9%2162688/3527168 bytes (61.3%2179072/3527168 bytes (61.8%2203648/3527168 bytes (62.5%2228224/3527168 bytes (63.2%2244608/3527168 bytes (63.6%2260992/3527168 bytes (64.1%2293760/3527168 bytes (65.0%2310144/3527168 bytes (65.5%2351104/3527168 bytes (66.7%2359296/3527168 bytes (66.9%2392064/3527168 bytes (67.8%2408448/3527168 bytes (68.3%2424832/3527168 bytes (68.7%2441216/3527168 bytes (69.2%2465792/3527168 bytes (69.9%2473984/3527168 bytes (70.1%2482176/3527168 bytes (70.4%2490368/3527168 bytes (70.6%2506752/3527168 bytes (71.1%2523136/3527168 bytes (71.5%2539520/3527168 bytes (72.0%2555904/3527168 bytes (72.5%2572288/3527168 bytes (72.9%2596864/3527168 bytes (73.6%2605056/3527168 bytes (73.9%2613248/3527168 bytes (74.1%2621440/3527168 bytes (74.3%2637824/3527168 bytes (74.8%2654208/3527168 bytes (75.3%2670592/3527168 bytes (75.7%2686976/3527168 bytes (76.2%2703360/3527168 bytes (76.6%2719744/3527168 bytes (77.1%2727936/3527168 bytes (77.3%2736128/3527168 bytes (77.6%2752512/3527168 bytes (78.0%2768896/3527168 bytes (78.5%2785280/3527168 bytes (79.0%2801664/3527168 bytes (79.4%2818048/3527168 bytes (79.9%2834432/3527168 bytes (80.4%2850816/3527168 bytes (80.8%2859008/3527168 bytes (81.1%2867200/3527168 bytes (81.3%2875392/3527168 bytes (81.5%2883584/3527168 bytes (81.8%2899968/3527168 bytes (82.2%2916352/3527168 bytes (82.7%2932736/3527168 bytes (83.1%2949120/3527168 bytes (83.6%2965504/3527168 bytes (84.1%2990080/3527168 bytes (84.8%2998272/3527168 bytes (85.0%3006464/3527168 bytes (85.2%3014656/3527168 bytes (85.5%3031040/3527168 bytes (85.9%3047424/3527168 bytes (86.4%3063808/3527168 bytes (86.9%3080192/3527168 bytes (87.3%3096576/3527168 bytes (87.8%3121152/3527168 bytes (88.5%3145728/3527168 bytes (89.2%3162112/3527168 bytes (89.7%3211264/3527168 bytes (91.0%3244032/3527168 bytes (92.0%3260416/3527168 bytes (92.4%3293184/3527168 bytes (93.4%3325952/3527168 bytes (94.3%3342336/3527168 bytes (94.8%3366912/3527168 bytes (95.5%3375104/3527168 bytes (95.7%3383296/3527168 bytes (95.9%3391488/3527168 bytes (96.2%3407872/3527168 bytes (96.6%3424256/3527168 bytes (97.1%3440640/3527168 bytes (97.5%3457024/3527168 bytes (98.0%3473408/3527168 bytes (98.5%3497984/3527168 bytes (99.2%3506176/3527168 bytes (99.4%3514368/3527168 bytes (99.6%3522560/3527168 bytes (99.9%3527168/3527168 bytes (100.0%)\n",
      "  Done\n",
      "File saved as C:\\Users\\putug\\AppData\\Local\\imageio\\freeimage\\freeimage-3.15.1-win64.dll.\n"
     ]
    }
   ],
   "source": [
    "imageio.plugins.freeimage.download()"
   ]
  },
  {
   "cell_type": "code",
   "execution_count": 63,
   "metadata": {},
   "outputs": [
    {
     "name": "stdout",
     "output_type": "stream",
     "text": [
      "[[[19.07896  19.19368  19.273867]\n",
      "  [19.336842 19.277016 19.176336]\n",
      "  [19.371246 19.33252  19.272198]\n",
      "  ...\n",
      "  [19.430815 19.410278 19.362604]\n",
      "  [19.4425   19.418724 19.373997]\n",
      "  [19.425068 19.413103 19.360365]]\n",
      "\n",
      " [[19.335022 19.155396 19.187243]\n",
      "  [19.364143 19.300076 19.24842 ]\n",
      "  [19.388014 19.336023 19.322609]\n",
      "  ...\n",
      "  [19.422705 19.40205  19.360365]\n",
      "  [19.43207  19.415714 19.373997]\n",
      "  [19.423111 19.411007 19.355503]]\n",
      "\n",
      " [[19.372055 19.267263 19.272198]\n",
      "  [19.387745 19.341402 19.322609]\n",
      "  [19.356771 19.309425 19.315825]\n",
      "  ...\n",
      "  [19.436655 19.401114 19.366756]\n",
      "  [19.429344 19.4064   19.358004]\n",
      "  [19.422705 19.420956 19.36473 ]]\n",
      "\n",
      " ...\n",
      "\n",
      " [[19.363657 19.30749  19.265108]\n",
      "  [19.377998 19.3341   19.226866]\n",
      "  [19.377998 19.3341   19.257238]\n",
      "  ...\n",
      "  [19.440498 19.444859 19.419062]\n",
      "  [19.458616 19.441582 19.41256 ]\n",
      "  [19.446463 19.436268 19.411348]]\n",
      "\n",
      " [[19.366495 19.312012 19.278646]\n",
      "  [19.376947 19.335642 19.24842 ]\n",
      "  [19.379356 19.338621 19.265108]\n",
      "  ...\n",
      "  [19.44587  19.429909 19.415964]\n",
      "  [19.44567  19.429493 19.41256 ]\n",
      "  [19.43501  19.41508  19.407438]]\n",
      "\n",
      " [[19.368288 19.314163 19.24842 ]\n",
      "  [19.376593 19.337149 19.24842 ]\n",
      "  [19.378683 19.338621 19.265108]\n",
      "  ...\n",
      "  [19.436655 19.42305  19.396225]\n",
      "  [19.435843 19.42405  19.394304]\n",
      "  [19.424685 19.407211 19.36473 ]]]\n"
     ]
    },
    {
     "data": {
      "text/plain": [
       "-1"
      ]
     },
     "execution_count": 63,
     "metadata": {},
     "output_type": "execute_result"
    }
   ],
   "source": [
    "im = imageio.imread('memorial.hdr',format='HDR-FI')\n",
    "inmin = np.min(im)\n",
    "inmax = np.max(im)\n",
    "outmin = 60\n",
    "outmax = 255\n",
    "img1 = outmin + (im - inmin)*((outmax-outmin)/(inmax - inmin))\n",
    "img1 = gamma(img1)\n",
    "img1 = img *(255/np.max(img1))\n",
    "print(img1)\n",
    "cv2.imshow('img1',img1.astype(np.uint8))\n",
    "cv2.waitKey(0)"
   ]
  },
  {
   "cell_type": "code",
   "execution_count": 13,
   "metadata": {},
   "outputs": [],
   "source": [
    "def unsharp(img1):\n",
    "    img = img1.copy()\n",
    "    k = np.array([[0,1,0],[1,-4,1],[0,1,0]])\n",
    "    for i in range(1,img.shape[0]-1):\n",
    "        for j in range(2,img.shape[1]-2):\n",
    "            X1B = img1[i-1:i+2,j-1:j+2,0]\n",
    "            X1G = img1[i-1:i+2,j-1:j+2,1]\n",
    "            X1R = img1[i-1:i+2,j-1:j+2,2]\n",
    "            B = np.sum(X1B*k)\n",
    "            G = np.sum(X1G*k)\n",
    "            R = np.sum(X1R*k)\n",
    "            img[i,j,2] = R\n",
    "            img[i,j,1] = G\n",
    "            img[i,j,0] = B\n",
    "    img = img1 - img\n",
    "    min = np.min(img)\n",
    "    img = img-min+1\n",
    "#     print(np.max(img))\n",
    "    img = img*(255/np.max(img))\n",
    "    #print(np.max(img))\n",
    "    return img"
   ]
  },
  {
   "cell_type": "code",
   "execution_count": 2,
   "metadata": {},
   "outputs": [],
   "source": [
    "def linearScaling(img,outmax,outmin):\n",
    "    inmin = np.min(img)\n",
    "    inmax = np.max(img)\n",
    "    img1 = outmin + (img - inmin)*((outmax-outmin)/(inmax - inmin))\n",
    "    return img1"
   ]
  },
  {
   "cell_type": "code",
   "execution_count": 3,
   "metadata": {},
   "outputs": [],
   "source": [
    "def gamma(img):\n",
    "    img1 = (img**(1/2.2))\n",
    "    img1 = img1*(255/np.max(img1))\n",
    "    return img1"
   ]
  },
  {
   "cell_type": "code",
   "execution_count": 4,
   "metadata": {},
   "outputs": [],
   "source": [
    "def write(img,filename):\n",
    "    img = img[:,:,::-1]\n",
    "    cv2.imwrite(filename,img.astype(np.uint8))"
   ]
  },
  {
   "cell_type": "code",
   "execution_count": 16,
   "metadata": {},
   "outputs": [],
   "source": [
    "def logScaling(img):\n",
    "    img1 = 0.299*img[:,:,0] + 0.587*img[:,:,1] + 0.114*img[:,:,2]\n",
    "    img5 = img1 + 1\n",
    "    img5 = np.log10(img5)\n",
    "    img6 = img5.copy()\n",
    "    inmin = np.min(img5)\n",
    "    inmax = np.max(img5)\n",
    "    outmin=2.5\n",
    "    outmax = 0.5\n",
    "    for i in range(img5.shape[0]):\n",
    "        for j in range(img5.shape[1]):\n",
    "            img6[i,j] = outmin + (img5[i,j] - inmin)*((outmax-outmin)/(inmax - inmin))\n",
    "    #print(np.max(img6))\n",
    "    img6 = 10**(img6)\n",
    "    img7 = img.copy()\n",
    "    img7[:,:,0] = ((img[:,:,0]/(img1+1))**0.5)*img6\n",
    "    img7[:,:,1] = ((img[:,:,1]/(img1+1))**0.5)*img6\n",
    "    img7[:,:,2] = ((img[:,:,2]/(img1+1))**0.5)*img6\n",
    "    img7 = img7**(1/2.2)\n",
    "    img7 = img7*(255/np.max(img7))\n",
    "    img7 = img7[:,:,::-1]\n",
    "    return img7"
   ]
  },
  {
   "cell_type": "code",
   "execution_count": 10,
   "metadata": {},
   "outputs": [],
   "source": [
    "import imageio\n",
    "img = imageio.imread('memorial.hdr',format='HDR-FI')\n",
    "write(gamma(linearScaling(img,1000,0)),'out.jpg')\n",
    "write(gamma(img),'out2.jpg')"
   ]
  },
  {
   "cell_type": "code",
   "execution_count": 18,
   "metadata": {},
   "outputs": [
    {
     "data": {
      "text/plain": [
       "True"
      ]
     },
     "execution_count": 18,
     "metadata": {},
     "output_type": "execute_result"
    }
   ],
   "source": [
    "img = imageio.imread('memorial.hdr',format='HDR-FI')\n",
    "img1 = 0.299*img[:,:,0] + 0.587*img[:,:,1] + 0.114*img[:,:,2]\n",
    "img5 = img1 + 1\n",
    "img5 = np.log10(img5)\n",
    "img3 = img.copy()\n",
    "img6 = img.copy()\n",
    "img8 = img.copy()\n",
    "img4 = img5.copy()\n",
    "inmin = np.min(img5)\n",
    "inmax = np.max(img5)\n",
    "outmin = 2.3\n",
    "outmax = 0.3\n",
    "for i in range(img5.shape[0]):\n",
    "    for j in range(img5.shape[1]):\n",
    "        img5[i,j] = outmin + (img4[i,j] - inmin)*((outmax-outmin)/(inmax - inmin))\n",
    "img5 = 10**(img5)\n",
    "img6[:,:,0] = ((img3[:,:,0]/(img1+1))**0.5)*img5\n",
    "img6[:,:,1] = ((img3[:,:,1]/(img1+1))**0.5)*img5\n",
    "img6[:,:,2] = ((img3[:,:,2]/(img1+1))**0.5)*img5\n",
    "img7 = img6.copy()\n",
    "img6 = img6**(1/2.2)\n",
    "img6 = img6*(255/np.max(img6))\n",
    "img6 = img6[:,:,::-1]\n",
    "cv2.imwrite('out12.jpg',img6.astype(np.uint8))\n",
    "img7 = img7[:,:,::-1]\n",
    "cv2.imwrite('out13.jpg',img7.astype(np.uint8))"
   ]
  },
  {
   "cell_type": "code",
   "execution_count": 124,
   "metadata": {},
   "outputs": [
    {
     "data": {
      "text/plain": [
       "True"
      ]
     },
     "execution_count": 124,
     "metadata": {},
     "output_type": "execute_result"
    }
   ],
   "source": [
    "img7 = img7.astype(np.uint8)\n",
    "img8 = 0.299*img7[:,:,0] + 0.587*img7[:,:,1] + 0.114*img7[:,:,2]\n",
    "hist = cv2.calcHist([img7],[0],None,[256],[0,256])\n",
    "eq1 = cv2.equalizeHist(img8.astype(np.uint8))\n",
    "img9 = img7.copy()\n",
    "img10 = img7.copy()\n",
    "img10[:,:,0] = ((img9[:,:,0]/(img8))**0.5)*eq1\n",
    "img10[:,:,1] = ((img9[:,:,1]/(img8))**0.5)*eq1\n",
    "img10[:,:,2] = ((img9[:,:,2]/(img8))**0.5)*eq1\n",
    "img10 = img10**(1/2.2)\n",
    "img10 = img10*(255/np.max(img8))\n",
    "img10 = img10[:,:,::-1]\n",
    "cv2.imwrite('out1.jpg',img10.astype(np.uint8))"
   ]
  },
  {
   "cell_type": "code",
   "execution_count": 11,
   "metadata": {},
   "outputs": [
    {
     "name": "stdout",
     "output_type": "stream",
     "text": [
      "784.0573\n"
     ]
    },
    {
     "name": "stderr",
     "output_type": "stream",
     "text": [
      "C:\\Users\\putug\\Anaconda3\\lib\\site-packages\\ipykernel_launcher.py:24: ComplexWarning: Casting complex values to real discards the imaginary part\n",
      "C:\\Users\\putug\\Anaconda3\\lib\\site-packages\\ipykernel_launcher.py:25: ComplexWarning: Casting complex values to real discards the imaginary part\n",
      "C:\\Users\\putug\\Anaconda3\\lib\\site-packages\\ipykernel_launcher.py:26: ComplexWarning: Casting complex values to real discards the imaginary part\n"
     ]
    },
    {
     "data": {
      "text/plain": [
       "True"
      ]
     },
     "execution_count": 11,
     "metadata": {},
     "output_type": "execute_result"
    }
   ],
   "source": [
    "img = imageio.imread('memorial.hdr',format='HDR-FI')\n",
    "img1 = 0.299*img[:,:,0] + 0.587*img[:,:,1] + 0.114*img[:,:,2]\n",
    "s = 1.6**6\n",
    "alpha1 = 0.35\n",
    "alpha2 = 0.35*0.16\n",
    "phi = 8\n",
    "a = 0.36\n",
    "img2 = img1.copy()\n",
    "img3 = img1.copy()\n",
    "for i in range(img2.shape[0]):\n",
    "    for j in range(img2.shape[1]):\n",
    "        img2[i,j] = (1/(np.arctan(1)*((alpha1*s)**2)))*np.exp((-(i**2)-(j**2))/((alpha1*s)**2))\n",
    "        img3[i,j] = (1/(np.arctan(1)*((alpha2*s)**2)))*np.exp((-(i**2)-(j**2))/((alpha2*s)**2)) \n",
    "h1 = np.fft.fft2(img2)\n",
    "h2 = np.fft.fft2(img3)\n",
    "L = np.fft.fft2(img1)\n",
    "V1 = L*h1\n",
    "V2 = L*h2\n",
    "V1 = np.fft.ifft2(V1)\n",
    "V2 = np.fft.ifft2(V2)\n",
    "V = (V1-V2)/(((2**phi)*(a*(s**2))) + V1)\n",
    "L1 = img1/(1+V1)\n",
    "img4 = img.copy()\n",
    "img4[:,:,0] = ((img[:,:,0]/(img1))**0.5)*L1\n",
    "img4[:,:,1] = ((img[:,:,1]/(img1))**0.5)*L1\n",
    "img4[:,:,2] = ((img[:,:,2]/(img1))**0.5)*L1\n",
    "img4 = img4**(1/2.2)\n",
    "img4 = img4*(255)\n",
    "print(np.max(img4))\n",
    "img4 = img4[:,:,::-1]\n",
    "cv2.imwrite('out4.jpg',img4.astype(np.uint8))"
   ]
  },
  {
   "cell_type": "code",
   "execution_count": 128,
   "metadata": {},
   "outputs": [
    {
     "data": {
      "text/plain": [
       "3.141592653589793"
      ]
     },
     "execution_count": 128,
     "metadata": {},
     "output_type": "execute_result"
    }
   ],
   "source": [
    "4*np.arctan(1)"
   ]
  },
  {
   "cell_type": "code",
   "execution_count": null,
   "metadata": {},
   "outputs": [],
   "source": []
  }
 ],
 "metadata": {
  "kernelspec": {
   "display_name": "Python 3",
   "language": "python",
   "name": "python3"
  },
  "language_info": {
   "codemirror_mode": {
    "name": "ipython",
    "version": 3
   },
   "file_extension": ".py",
   "mimetype": "text/x-python",
   "name": "python",
   "nbconvert_exporter": "python",
   "pygments_lexer": "ipython3",
   "version": "3.7.3"
  }
 },
 "nbformat": 4,
 "nbformat_minor": 2
}
